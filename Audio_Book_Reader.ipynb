{
 "cells": [
  {
   "cell_type": "code",
   "execution_count": 1,
   "id": "5d7b7a51",
   "metadata": {},
   "outputs": [
    {
     "name": "stdout",
     "output_type": "stream",
     "text": [
      "viPREFACE\n",
      "Dear Reader,\n",
      "This book assumes that you are a new programmer with no prior knowledge of programming.\n",
      "So, what is programming? Programming solves problems by creating solutions—writingprograms—in a programming language. The fundamentals of problem solving and programmingare the same regardless of which programming language you use. You can learn programmingusing any high-level programming language such as Python, Java, C++, or C#. Once you knowhow to program in one language, it is easy to pick up other languages, because the basic tech-niques for writing programs are the same.\n",
      "So what are the benefits of learning programming using Python? Python is easy to learn\n",
      "and fun to program. Python code is simple, short, readable, intuitive, and powerful, and thusit is effective for introducing computing and problem solving to beginners.\n",
      "Beginners are motivated to learn programming so they can create graphics. A big reason\n",
      "for learning programming using Python is that you can start programming using graphics onday one. We use Python’s built-in Turtle graphics module in Chapters 1–6 because it is a goodpedagogical tool for introducing fundamental concepts and techniques of programming. Weintroduce Python’s built-in Tkinter in Chapter 9, because it is a great tool for developingcomprehensive graphical user interfaces and for learning object-oriented programming. BothTurtle and Tkinter are remarkably simple and easy to use. More importantly, they are valuablepedagogical tools for teaching the fundamentals of programming and object-orientedprogramming.\n",
      "To give instructors flexibility to use this book, we cover Turtle at the end of Chapters 1–6\n",
      "so they can be skipped as optional material.\n",
      "The book teaches problem solving in a problem-driven way that focuses on problem solv-\n",
      "ing rather than syntax. We stimulate student interests in programming by using interestingexamples in a broad context. While the central thread of the book is on problem solving,appropriate Python syntax and library are introduced in order to solve the problems. To sup-port the teaching of programming in a problem-driven way, the book provides a wide varietyof problems at various levels of difficulty to motivate students. In order to appeal to studentsin all majors, the problems cover many application areas in math, science, business, financialmanagement, gaming, animation, and multimedia.\n",
      "All data in Python are objects. We introduce and use objects from Chapter 3, but defining\n",
      "custom classes are covered in the middle of the book starting from Chapter 7. The bookfocuses on fundamentals first: it introduces basic programming concepts and techniques onselections, loops, and functions before writing custom classes.\n",
      "The best way to teach programming is by example , and the only way to learn programming\n",
      "is by doing . Basic concepts are explained by example and a large number of exercises with\n",
      "various levels of difficulty are provided for students to practice. Our goal is to produce a textthat teaches problem solving and programming in a broad context using a wide variety ofinteresting examples and exercises.\n",
      "Sincerely,\n",
      "Y . Daniel Liang\n",
      "y.daniel.liang@gmail.comwww.cs.armstrong.edu/liangwww.pearsonhighered.com/liangwhat is programming?\n",
      "why Python?\n",
      "graphics\n",
      "optional Turtle\n",
      "problem-driven\n",
      "fundamentals first\n",
      "examples and exercises\n",
      "\n"
     ]
    }
   ],
   "source": [
    "import pyttsx3\n",
    "from PyPDF2 import PdfReader\n",
    "reader = PdfReader(\"D:\\pdf\\Introduction to Programming Using Python.pdf\")\n",
    "pages = len(reader.pages)\n",
    "# it print or speak the whole book if you want to listen specific pages then specify the upper and lower limit \n",
    "#for num in range(7, pages): \n",
    "for num in range(7, 8):    \n",
    "    page = reader.pages[num]\n",
    "    txt=page.extract_text()\n",
    "    print(txt)\n",
    "    speaker = pyttsx3.init()\n",
    "    speaker.say(txt)\n",
    "    speaker.runAndWait()"
   ]
  },
  {
   "cell_type": "code",
   "execution_count": null,
   "id": "628f5518",
   "metadata": {},
   "outputs": [],
   "source": []
  }
 ],
 "metadata": {
  "kernelspec": {
   "display_name": "Python 3 (ipykernel)",
   "language": "python",
   "name": "python3"
  },
  "language_info": {
   "codemirror_mode": {
    "name": "ipython",
    "version": 3
   },
   "file_extension": ".py",
   "mimetype": "text/x-python",
   "name": "python",
   "nbconvert_exporter": "python",
   "pygments_lexer": "ipython3",
   "version": "3.9.12"
  }
 },
 "nbformat": 4,
 "nbformat_minor": 5
}
